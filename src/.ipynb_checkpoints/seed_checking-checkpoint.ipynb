{
 "cells": [
  {
   "cell_type": "code",
   "execution_count": 20,
   "id": "ef56221e",
   "metadata": {},
   "outputs": [],
   "source": [
    "import os\n",
    "import matplotlib.pyplot as plt\n",
    "from scipy import stats\n",
    "import pandas as pd\n",
    "from scipy.stats import kstest, norm"
   ]
  },
  {
   "cell_type": "code",
   "execution_count": 2,
   "id": "b83bb0a2",
   "metadata": {},
   "outputs": [],
   "source": [
    "seeds = [i+1 for i in range(50)]"
   ]
  },
  {
   "cell_type": "code",
   "execution_count": 3,
   "id": "c6abbd38",
   "metadata": {},
   "outputs": [
    {
     "data": {
      "text/plain": [
       "'/Users/jeromeroche/Documents/NUS/Thesis/TP/Continuous_Env/src'"
      ]
     },
     "execution_count": 3,
     "metadata": {},
     "output_type": "execute_result"
    }
   ],
   "source": [
    "os.getcwd()"
   ]
  },
  {
   "cell_type": "code",
   "execution_count": 4,
   "id": "298b7f0f",
   "metadata": {},
   "outputs": [],
   "source": [
    "os.chdir('../log_files/wind_map_1/png_continuous_7_1_10_1_propulsion_15_4_0.9_200000/')"
   ]
  },
  {
   "cell_type": "code",
   "execution_count": 5,
   "id": "1a266c82",
   "metadata": {},
   "outputs": [],
   "source": [
    "bonus = 10\n",
    "scale = 1\n",
    "rewards = []\n",
    "for seed in seeds:\n",
    "    rewards.append([])\n",
    "    file = open('seed_'+str(seed)+'/monitoring.txt', 'r')\n",
    "    if seed == 1:\n",
    "        ts = []\n",
    "    for line in file:\n",
    "        split = line.split()\n",
    "        rewards[seed - 1].append(float(split[1])/scale - bonus)\n",
    "        if seed == 1:\n",
    "            ts.append(int(split[0]))"
   ]
  },
  {
   "cell_type": "code",
   "execution_count": 6,
   "id": "ee1e1955",
   "metadata": {},
   "outputs": [],
   "source": [
    "data = []\n",
    "for t in range(len(ts)):\n",
    "    data.append([])\n",
    "    for x in rewards:\n",
    "        data[t].append(x[t])"
   ]
  },
  {
   "cell_type": "code",
   "execution_count": 15,
   "id": "58e9c799",
   "metadata": {},
   "outputs": [
    {
     "data": {
      "text/plain": [
       "[<matplotlib.lines.Line2D at 0x11e8a0a50>]"
      ]
     },
     "execution_count": 15,
     "metadata": {},
     "output_type": "execute_result"
    },
    {
     "data": {
      "image/png": "[encoded data removed]",
      "text/plain": [
       "<Figure size 432x288 with 1 Axes>"
      ]
     },
     "metadata": {
      "needs_background": "light"
     },
     "output_type": "display_data"
    }
   ],
   "source": [
    "plt.plot(data[-1], '.r')"
   ]
  },
  {
   "cell_type": "code",
   "execution_count": 17,
   "id": "0af7bce8",
   "metadata": {},
   "outputs": [
    {
     "data": {
      "text/plain": [
       "ShapiroResult(statistic=0.726498544216156, pvalue=2.5551047500016466e-08)"
      ]
     },
     "execution_count": 17,
     "metadata": {},
     "output_type": "execute_result"
    }
   ],
   "source": [
    "shapiro_test = stats.shapiro(data[-1])\n",
    "shapiro_test"
   ]
  },
  {
   "cell_type": "code",
   "execution_count": 19,
   "id": "97969c5a",
   "metadata": {},
   "outputs": [
    {
     "data": {
      "text/plain": [
       "<AxesSubplot:>"
      ]
     },
     "execution_count": 19,
     "metadata": {},
     "output_type": "execute_result"
    },
    {
     "data": {
      "image/png": "[encoded data removed]",
      "text/plain": [
       "<Figure size 432x288 with 1 Axes>"
      ]
     },
     "metadata": {
      "needs_background": "light"
     },
     "output_type": "display_data"
    }
   ],
   "source": [
    "my_data = pd.Series(data[-1])\n",
    "my_data.hist()"
   ]
  },
  {
   "cell_type": "code",
   "execution_count": 21,
   "id": "05bc9ba8",
   "metadata": {},
   "outputs": [
    {
     "name": "stdout",
     "output_type": "stream",
     "text": [
      "1.0 0.0\n"
     ]
    }
   ],
   "source": [
    "my_data = pd.Series(data[-1])\n",
    "ks_statistic, p_value = kstest(my_data, 'norm')\n",
    "print(ks_statistic, p_value)"
   ]
  },
  {
   "cell_type": "code",
   "execution_count": 31,
   "id": "214690a5",
   "metadata": {},
   "outputs": [
    {
     "data": {
      "text/plain": [
       "-0.5241550730305116"
      ]
     },
     "execution_count": 31,
     "metadata": {},
     "output_type": "execute_result"
    },
    {
     "data": {
      "image/png": "[encoded data removed]",
      "text/plain": [
       "<Figure size 432x288 with 1 Axes>"
      ]
     },
     "metadata": {
      "needs_background": "light"
     },
     "output_type": "display_data"
    }
   ],
   "source": [
    "my_data = data[-1]\n",
    "Monte_Carlo = [my_data[0]]*len(my_data)\n",
    "\n",
    "for i in range(1, len(my_data)):\n",
    "    Monte_Carlo[i] = (Monte_Carlo[i-1] + my_data[i])/(i + 1)\n",
    "plt.plot(Monte_Carlo)\n",
    "plt.axhline(Monte_carlo[-1]*1.05)\n",
    "plt.axhline(Monte_carlo[-1]*0.95)\n",
    "Monte_Carlo[-1]"
   ]
  },
  {
   "cell_type": "code",
   "execution_count": 25,
   "id": "655203a7",
   "metadata": {},
   "outputs": [],
   "source": [
    "my_data = data[-1]\n",
    "Monte_Carlo = [my_data[0]]*len(my_data)"
   ]
  },
  {
   "cell_type": "code",
   "execution_count": 28,
   "id": "84945135",
   "metadata": {},
   "outputs": [
    {
     "data": {
      "text/plain": [
       "-26.06552"
      ]
     },
     "execution_count": 28,
     "metadata": {},
     "output_type": "execute_result"
    }
   ],
   "source": [
    "Monte_Carlo[49]\n"
   ]
  },
  {
   "cell_type": "code",
   "execution_count": null,
   "id": "f1a7f6a0",
   "metadata": {},
   "outputs": [],
   "source": []
  }
 ],
 "metadata": {
  "kernelspec": {
   "display_name": "Python 3 (ipykernel)",
   "language": "python",
   "name": "python3"
  },
  "language_info": {
   "codemirror_mode": {
    "name": "ipython",
    "version": 3
   },
   "file_extension": ".py",
   "mimetype": "text/x-python",
   "name": "python",
   "nbconvert_exporter": "python",
   "pygments_lexer": "ipython3",
   "version": "3.7.11"
  }
 },
 "nbformat": 4,
 "nbformat_minor": 5
}
