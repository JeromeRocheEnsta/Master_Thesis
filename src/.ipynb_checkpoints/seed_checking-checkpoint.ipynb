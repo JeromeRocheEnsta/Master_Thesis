{
 "cells": [
  {
   "cell_type": "code",
   "execution_count": 3,
   "id": "7380323b",
   "metadata": {},
   "outputs": [],
   "source": [
    "import os"
   ]
  },
  {
   "cell_type": "code",
   "execution_count": 1,
   "id": "7727f06d",
   "metadata": {},
   "outputs": [],
   "source": [
    "seeds = [1, 2, 3, 4, 5, 6, 7, 8, 9, 10]"
   ]
  },
  {
   "cell_type": "code",
   "execution_count": 6,
   "id": "ff652953",
   "metadata": {},
   "outputs": [
    {
     "data": {
      "text/plain": [
       "'/Users/jeromeroche/Documents/NUS/Thesis/TP/Continuous_Env/log_files/wind_map_1/Exp_scale/PPO_continuous_1_1_propulsion_15_4_0.9_500000/scale_1'"
      ]
     },
     "execution_count": 6,
     "metadata": {},
     "output_type": "execute_result"
    }
   ],
   "source": [
    "os.getcwd()"
   ]
  },
  {
   "cell_type": "code",
   "execution_count": 5,
   "id": "7996b9ae",
   "metadata": {},
   "outputs": [],
   "source": [
    "os.chdir('../log_files/wind_map_1/Exp_scale/PPO_continuous_1_1_propulsion_15_4_0.9_500000/scale_1/')"
   ]
  },
  {
   "cell_type": "code",
   "execution_count": null,
   "id": "c92419ac",
   "metadata": {},
   "outputs": [],
   "source": [
    "bonus = 10\n",
    "scale = 1\n",
    "rewards = []\n",
    "for seed in range seeds:\n",
    "    rewards.append([])\n",
    "    file = open('seed_'+str(seed)+'/monitoring.txt', 'r')\n",
    "    if seed == 1:\n",
    "        ts = []\n",
    "    for line in file:\n",
    "        split = line.split()\n",
    "        rewards[seed - 1].append(float(split[1]/scale - bonus))\n",
    "        if seed == 1:\n",
    "            ts.append(int(split[0]))"
   ]
  }
 ],
 "metadata": {
  "kernelspec": {
   "display_name": "Python 3 (ipykernel)",
   "language": "python",
   "name": "python3"
  },
  "language_info": {
   "codemirror_mode": {
    "name": "ipython",
    "version": 3
   },
   "file_extension": ".py",
   "mimetype": "text/x-python",
   "name": "python",
   "nbconvert_exporter": "python",
   "pygments_lexer": "ipython3",
   "version": "3.7.11"
  }
 },
 "nbformat": 4,
 "nbformat_minor": 5
}
