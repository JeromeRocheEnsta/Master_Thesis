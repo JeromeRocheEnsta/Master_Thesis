{
 "cells": [
  {
   "cell_type": "markdown",
   "id": "701fdbc6",
   "metadata": {},
   "source": [
    "# Plot Learning curves"
   ]
  },
  {
   "cell_type": "code",
   "execution_count": 1,
   "id": "2ce558ab",
   "metadata": {},
   "outputs": [],
   "source": [
    "import os\n",
    "import matplotlib.pyplot as plt\n",
    "import numpy as np\n",
    "import scipy.stats as st\n",
    "from matplotlib import ticker\n",
    "from utils import get_data\n",
    "\n",
    "color = {\n",
    "    0 : 'blue',\n",
    "    1 : 'green',\n",
    "    2 : 'red',\n",
    "    3 : 'black',\n",
    "    4 : 'magenta',\n",
    "    5 : 'yellow',\n",
    "    6 : 'plum',\n",
    "    7 : 'aquamarine',\n",
    "    8 : 'gray'\n",
    "}\n",
    "\n",
    "seeds = [1,2,3,4,5,6,7,8,9,10]"
   ]
  },
  {
   "cell_type": "code",
   "execution_count": 2,
   "id": "fe452fa5",
   "metadata": {},
   "outputs": [],
   "source": [
    "seeds = [1,2,3,4,5,6,7,8,9,10]\n",
    "\n",
    "fig, ax = plt.subplots(1, 3)\n",
    "fig.set_size_inches(17, 7)\n",
    "\n",
    "xticks = ticker.MaxNLocator(6)\n",
    "ax[0].xaxis.set_major_locator(xticks)\n",
    "ax[1].xaxis.set_major_locator(xticks)\n",
    "ax[2].xaxis.set_major_locator(xticks)"
   ]
  },
  {
   "cell_type": "code",
   "execution_count": 3,
   "id": "d841010d",
   "metadata": {},
   "outputs": [
    {
     "ename": "NameError",
     "evalue": "name 'scale' is not defined",
     "output_type": "error",
     "traceback": [
      "\u001b[0;31m---------------------------------------------------------------------------\u001b[0m",
      "\u001b[0;31mNameError\u001b[0m                                 Traceback (most recent call last)",
      "\u001b[0;32m/var/folders/4k/w9dj1p_52h917f289h083y7m0000gn/T/ipykernel_11950/2046142829.py\u001b[0m in \u001b[0;36m<module>\u001b[0;34m\u001b[0m\n\u001b[1;32m      3\u001b[0m \u001b[0mos\u001b[0m\u001b[0;34m.\u001b[0m\u001b[0mchdir\u001b[0m\u001b[0;34m(\u001b[0m\u001b[0mdirectory\u001b[0m\u001b[0;34m)\u001b[0m\u001b[0;34m\u001b[0m\u001b[0;34m\u001b[0m\u001b[0m\n\u001b[1;32m      4\u001b[0m \u001b[0;34m\u001b[0m\u001b[0m\n\u001b[0;32m----> 5\u001b[0;31m \u001b[0mtimesteps\u001b[0m\u001b[0;34m,\u001b[0m \u001b[0mmean_reward\u001b[0m\u001b[0;34m,\u001b[0m \u001b[0mci_reward\u001b[0m\u001b[0;34m,\u001b[0m \u001b[0mmean_length\u001b[0m\u001b[0;34m,\u001b[0m \u001b[0mci_length\u001b[0m\u001b[0;34m,\u001b[0m \u001b[0mmean_energy\u001b[0m\u001b[0;34m,\u001b[0m \u001b[0mci_energy\u001b[0m\u001b[0;34m,\u001b[0m \u001b[0mref_reward\u001b[0m\u001b[0;34m,\u001b[0m \u001b[0mref_length\u001b[0m\u001b[0;34m,\u001b[0m \u001b[0mref_energy\u001b[0m \u001b[0;34m=\u001b[0m \u001b[0mget_data\u001b[0m\u001b[0;34m(\u001b[0m\u001b[0mseeds\u001b[0m\u001b[0;34m,\u001b[0m \u001b[0mscale\u001b[0m \u001b[0;34m=\u001b[0m \u001b[0mscale\u001b[0m\u001b[0;34m)\u001b[0m\u001b[0;34m\u001b[0m\u001b[0;34m\u001b[0m\u001b[0m\n\u001b[0m\u001b[1;32m      6\u001b[0m \u001b[0;34m\u001b[0m\u001b[0m\n\u001b[1;32m      7\u001b[0m  \u001b[0;31m### Reward plot\u001b[0m\u001b[0;34m\u001b[0m\u001b[0;34m\u001b[0m\u001b[0;34m\u001b[0m\u001b[0m\n",
      "\u001b[0;31mNameError\u001b[0m: name 'scale' is not defined"
     ]
    }
   ],
   "source": [
    "directory = '../log_files/wind_map_1/Exp_network/PPO_continuous_7_1_10_1_propulsion_15_4_0.9_200000/tanh_1/'\n",
    "scale = 1\n",
    "bonus = 10\n",
    "\n",
    "os.chdir(directory)\n",
    "\n",
    "timesteps, mean_reward, ci_reward, mean_length, ci_length, mean_energy, ci_energy, ref_reward, ref_length, ref_energy = get_data(seeds, scale = scale, bonus = bonus)\n",
    "\n",
    " ### Reward plot\n",
    "up = []\n",
    "down = []\n",
    "for i in range(len(timesteps)):\n",
    "    up.append(mean_reward[i] + ci_reward[i])\n",
    "    down.append(mean_reward[i] - ci_reward[i])\n",
    "\n",
    "ax[0].plot(timesteps,mean_reward, color = color[0], label = 'tan_1')\n",
    "ax[0].fill_between(timesteps, down, up, color= color[0], alpha=.1)\n",
    "ax[0].axhline(y=ref_reward, color='r', linestyle='-')\n",
    "ax[0].set_xlabel('Timesteps')\n",
    "ax[0].set_ylabel('Average Reward')\n",
    "\n",
    "### Length plot\n",
    "up = []\n",
    "down = []\n",
    "for i in range(len(timesteps)):\n",
    "    up.append(mean_length[i] + ci_length[i])\n",
    "    down.append(mean_length[i] - ci_length[i])\n",
    "\n",
    "\n",
    "ax[1].plot(timesteps,mean_length, color = color[0])\n",
    "ax[1].fill_between(timesteps, down, up, color=color[0], alpha=.1)\n",
    "ax[1].axhline(y=ref_length, color='r', linestyle='-')\n",
    "ax[1].set_xlabel('Timesteps')\n",
    "ax[1].set_ylabel('Average Length')\n",
    "\n",
    "\n",
    "### Energy plot\n",
    "up = []\n",
    "down = []\n",
    "for i in range(len(timesteps)):\n",
    "    up.append(mean_energy[i] + ci_energy[i])\n",
    "    down.append(mean_energy[i] - ci_energy[i])\n",
    "\n",
    "ax[2].plot(timesteps,mean_energy, color = color[0])\n",
    "ax[2].fill_between(timesteps, down, up, color=color[0], alpha=.1)\n",
    "ax[2].axhline(y=ref_energy, color='r', linestyle='-')\n",
    "ax[2].set_xlabel('Timesteps')\n",
    "ax[2].set_ylabel('Average Energy')\n",
    "\n",
    "os.chdir('../../../../../')"
   ]
  },
  {
   "cell_type": "code",
   "execution_count": null,
   "id": "ab756b8a",
   "metadata": {},
   "outputs": [],
   "source": []
  }
 ],
 "metadata": {
  "kernelspec": {
   "display_name": "Python 3 (ipykernel)",
   "language": "python",
   "name": "python3"
  },
  "language_info": {
   "codemirror_mode": {
    "name": "ipython",
    "version": 3
   },
   "file_extension": ".py",
   "mimetype": "text/x-python",
   "name": "python",
   "nbconvert_exporter": "python",
   "pygments_lexer": "ipython3",
   "version": "3.7.11"
  }
 },
 "nbformat": 4,
 "nbformat_minor": 5
}
