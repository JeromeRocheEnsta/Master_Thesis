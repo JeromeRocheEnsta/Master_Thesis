{
 "cells": [
  {
   "cell_type": "code",
   "execution_count": 1,
   "id": "2334d949",
   "metadata": {},
   "outputs": [],
   "source": [
    "import os\n",
    "import numpy as np\n",
    "import matplotlib.pyplot as plt"
   ]
  },
  {
   "cell_type": "code",
   "execution_count": 4,
   "id": "47c4e8e7",
   "metadata": {},
   "outputs": [
    {
     "data": {
      "text/plain": [
       "'/Users/jeromeroche/Documents/NUS/Thesis/TP/Continuous_Env/log_files/wind_map_1/png_continuous_7_1_10_1_propulsion_15_4_0.9_150000'"
      ]
     },
     "execution_count": 4,
     "metadata": {},
     "output_type": "execute_result"
    }
   ],
   "source": [
    "os.getcwd()"
   ]
  },
  {
   "cell_type": "code",
   "execution_count": 35,
   "id": "6b581142",
   "metadata": {},
   "outputs": [],
   "source": [
    "os.chdir('../')"
   ]
  },
  {
   "cell_type": "code",
   "execution_count": 3,
   "id": "466325c4",
   "metadata": {},
   "outputs": [],
   "source": [
    "os.chdir('../log_files/wind_map_1/png_continuous_7_1_10_1_propulsion_15_4_0.9_150000/')"
   ]
  },
  {
   "cell_type": "code",
   "execution_count": 36,
   "id": "259b6e4c",
   "metadata": {},
   "outputs": [],
   "source": [
    "seed = 2\n",
    "os.chdir('seed_'+str(seed))\n",
    "file = open('MonteCarlo.txt', 'r')\n",
    "data = []\n",
    "for line in file:\n",
    "    data.append(float(line))"
   ]
  },
  {
   "cell_type": "code",
   "execution_count": 37,
   "id": "1b37b960",
   "metadata": {},
   "outputs": [],
   "source": [
    "MonteCarlo = [data[0]]\n",
    "for i in range(1, len(data)):\n",
    "    MonteCarlo.append(MonteCarlo[i-1] + data[i])\n",
    "for i in range(len(MonteCarlo)):\n",
    "    MonteCarlo[i] /= i+1"
   ]
  },
  {
   "cell_type": "code",
   "execution_count": 40,
   "id": "6aac74d5",
   "metadata": {},
   "outputs": [
    {
     "data": {
      "text/plain": [
       "Text(0.5, 0, 'rank os the estimator')"
      ]
     },
     "execution_count": 40,
     "metadata": {},
     "output_type": "execute_result"
    },
    {
     "data": {
      "image/png": "[encoded data removed]",
      "text/plain": [
       "<Figure size 432x288 with 1 Axes>"
      ]
     },
     "metadata": {
      "needs_background": "light"
     },
     "output_type": "display_data"
    }
   ],
   "source": [
    "plt.plot(MonteCarlo)\n",
    "plt.axhline(MonteCarlo[-1] * 1.02, color = 'red')\n",
    "plt.axhline(MonteCarlo[-1] * 0.98, color = 'red')\n",
    "plt.xlabel('rank of the estimator')\n",
    "plt.ylabel('Monte-Carlo estimation')"
   ]
  },
  {
   "cell_type": "code",
   "execution_count": 39,
   "id": "a6d3d400",
   "metadata": {},
   "outputs": [
    {
     "name": "stdout",
     "output_type": "stream",
     "text": [
      "430\n"
     ]
    }
   ],
   "source": [
    "error = 0.01\n",
    "for i in range(1, len(MonteCarlo)):\n",
    "    if MonteCarlo[-i] < MonteCarlo[-1] - abs(error*MonteCarlo[-1]) or MonteCarlo[-i] > MonteCarlo[-1] + abs(error*MonteCarlo[-1]):\n",
    "        break   \n",
    "print(2000 - i + 1)"
   ]
  },
  {
   "cell_type": "code",
   "execution_count": null,
   "id": "fabe97b7",
   "metadata": {},
   "outputs": [],
   "source": []
  }
 ],
 "metadata": {
  "kernelspec": {
   "display_name": "Python 3 (ipykernel)",
   "language": "python",
   "name": "python3"
  },
  "language_info": {
   "codemirror_mode": {
    "name": "ipython",
    "version": 3
   },
   "file_extension": ".py",
   "mimetype": "text/x-python",
   "name": "python",
   "nbconvert_exporter": "python",
   "pygments_lexer": "ipython3",
   "version": "3.7.11"
  }
 },
 "nbformat": 4,
 "nbformat_minor": 5
}
