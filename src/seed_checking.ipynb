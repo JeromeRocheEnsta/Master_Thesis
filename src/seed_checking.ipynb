{
 "cells": [
  {
   "cell_type": "code",
   "execution_count": 17,
   "id": "ef56221e",
   "metadata": {},
   "outputs": [],
   "source": [
    "import os\n",
    "import matplotlib.pyplot as plt"
   ]
  },
  {
   "cell_type": "code",
   "execution_count": 10,
   "id": "b83bb0a2",
   "metadata": {},
   "outputs": [],
   "source": [
    "seeds = [1, 2, 3, 4, 5, 6, 7, 8, 9, 10]"
   ]
  },
  {
   "cell_type": "code",
   "execution_count": 6,
   "id": "c6abbd38",
   "metadata": {},
   "outputs": [
    {
     "data": {
      "text/plain": [
       "'/Users/jeromeroche/Documents/NUS/Thesis/TP/Continuous_Env/log_files/wind_map_1/Exp_scale/PPO_continuous_1_1_propulsion_15_4_0.9_500000/scale_1'"
      ]
     },
     "execution_count": 6,
     "metadata": {},
     "output_type": "execute_result"
    }
   ],
   "source": [
    "os.getcwd()"
   ]
  },
  {
   "cell_type": "code",
   "execution_count": 5,
   "id": "298b7f0f",
   "metadata": {},
   "outputs": [],
   "source": [
    "os.chdir('../log_files/wind_map_1/Exp_scale/PPO_continuous_1_1_propulsion_15_4_0.9_500000/scale_1/')"
   ]
  },
  {
   "cell_type": "code",
   "execution_count": 12,
   "id": "1a266c82",
   "metadata": {},
   "outputs": [],
   "source": [
    "bonus = 10\n",
    "scale = 1\n",
    "rewards = []\n",
    "for seed in seeds:\n",
    "    rewards.append([])\n",
    "    file = open('seed_'+str(seed)+'/monitoring.txt', 'r')\n",
    "    if seed == 1:\n",
    "        ts = []\n",
    "    for line in file:\n",
    "        split = line.split()\n",
    "        rewards[seed - 1].append(float(split[1])/scale - bonus)\n",
    "        if seed == 1:\n",
    "            ts.append(int(split[0]))"
   ]
  },
  {
   "cell_type": "code",
   "execution_count": 15,
   "id": "ee1e1955",
   "metadata": {},
   "outputs": [],
   "source": [
    "data = []\n",
    "for t in range(len(ts)):\n",
    "    data.append([])\n",
    "    for x in rewards:\n",
    "        data[t].append(x[t])"
   ]
  },
  {
   "cell_type": "code",
   "execution_count": 20,
   "id": "58e9c799",
   "metadata": {},
   "outputs": [
    {
     "data": {
      "text/plain": [
       "[<matplotlib.lines.Line2D at 0x126f26990>]"
      ]
     },
     "execution_count": 20,
     "metadata": {},
     "output_type": "execute_result"
    },
    {
     "data": {
      "image/png": "[encoded data removed]",
      "text/plain": [
       "<Figure size 432x288 with 1 Axes>"
      ]
     },
     "metadata": {
      "needs_background": "light"
     },
     "output_type": "display_data"
    }
   ],
   "source": [
    "plt.plot(data[0], '.r')"
   ]
  },
  {
   "cell_type": "code",
   "execution_count": null,
   "id": "0af7bce8",
   "metadata": {},
   "outputs": [],
   "source": []
  }
 ],
 "metadata": {
  "kernelspec": {
   "display_name": "Python 3 (ipykernel)",
   "language": "python",
   "name": "python3"
  },
  "language_info": {
   "codemirror_mode": {
    "name": "ipython",
    "version": 3
   },
   "file_extension": ".py",
   "mimetype": "text/x-python",
   "name": "python",
   "nbconvert_exporter": "python",
   "pygments_lexer": "ipython3",
   "version": "3.7.11"
  }
 },
 "nbformat": 4,
 "nbformat_minor": 5
}
